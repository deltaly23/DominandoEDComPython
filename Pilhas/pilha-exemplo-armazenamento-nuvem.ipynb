{
 "cells": [
  {
   "cell_type": "markdown",
   "metadata": {},
   "source": [
    "# Serviço de Armazenamento em Nuvem\n",
    "\n",
    "Exemplo apresentado pela Júlia de Matos Xavier do Polo de Palmas\n",
    "\n",
    "\"Um serviço de armazenamento na nuvem. Quando você envia arquivos para upload, o servidor organiza em uma pilha, sendo cada novo arquivo colocado no topo. O servidor então pega o arquivo do topo e envia para o armazenamento. Depois que o arquivo é enviado, ele é retirado da pilha.\"\n",
    "\n",
    "Questionamento: **Pilha é a melhor estrutura para este contexto?**\n",
    "\n",
    "Este projeto utiliza a Estrutura Pilha desenvolvida em aula que agora está em um arquivo separado: pilha.py."
   ]
  },
  {
   "cell_type": "code",
   "execution_count": 3,
   "metadata": {},
   "outputs": [
    {
     "name": "stdout",
     "output_type": "stream",
     "text": [
      "Arquivo 'arquivo1.txt' adicionado para upload.\n",
      "Arquivo 'arquivo2.txt' adicionado para upload.\n",
      "Arquivo 'arquivo3.txt' adicionado para upload.\n",
      "Arquivo 'arquivo4.txt' adicionado para upload.\n",
      "Arquivo 'arquivo5.txt' adicionado para upload.\n",
      "Enviando arquivo 'arquivo5.txt'... (isso levará 1.78 segundos)\n",
      "Arquivo 'arquivo5.txt' enviado para armazenamento.\n",
      "Enviando arquivo 'arquivo4.txt'... (isso levará 1.90 segundos)\n",
      "Arquivo 'arquivo4.txt' enviado para armazenamento.\n",
      "Enviando arquivo 'arquivo3.txt'... (isso levará 1.99 segundos)\n",
      "Arquivo 'arquivo3.txt' enviado para armazenamento.\n",
      "Enviando arquivo 'arquivo2.txt'... (isso levará 1.92 segundos)\n",
      "Arquivo 'arquivo2.txt' enviado para armazenamento.\n",
      "Enviando arquivo 'arquivo1.txt'... (isso levará 0.64 segundos)\n",
      "Arquivo 'arquivo1.txt' enviado para armazenamento.\n"
     ]
    }
   ],
   "source": [
    "import time\n",
    "import random\n",
    "from pilha import Pilha\n",
    "\n",
    "class ServicoArmazenamentoNuvem:\n",
    "    def __init__(self):\n",
    "        self.pilha_arquivos = Pilha()\n",
    "\n",
    "    def receber_arquivo_para_upload(self, nome_arquivo):\n",
    "        self.pilha_arquivos.push(nome_arquivo)\n",
    "        print(f\"Arquivo '{nome_arquivo}' adicionado para upload.\")\n",
    "\n",
    "    def enviar_arquivo_para_armazenamento(self):\n",
    "        if not self.pilha_arquivos.is_empty():\n",
    "            arquivo_enviado = self.pilha_arquivos.pop()\n",
    "            tempo_envio = random.uniform(0.5, 2.0)  # Tempo aleatório entre 0.5 e 2 segundos\n",
    "            print(f\"Enviando arquivo '{arquivo_enviado}'... (isso levará {tempo_envio:.2f} segundos)\")\n",
    "            time.sleep(tempo_envio)  # Simula o tempo de envio\n",
    "            print(f\"Arquivo '{arquivo_enviado}' enviado para armazenamento.\")\n",
    "        else:\n",
    "            print(\"Não há arquivos para enviar.\")\n",
    "\n",
    "    def simulacao(self, num_arquivos):\n",
    "        # Simula a adição de arquivos para upload\n",
    "        for i in range(1, num_arquivos + 1):\n",
    "            self.receber_arquivo_para_upload(f\"arquivo{i}.txt\")\n",
    "\n",
    "        # Simula o envio dos arquivos um a um\n",
    "        while not self.pilha_arquivos.is_empty():\n",
    "            self.enviar_arquivo_para_armazenamento()\n",
    "\n",
    "# Exemplo de uso\n",
    "servico = ServicoArmazenamentoNuvem()\n",
    "servico.simulacao(5)  # Simula a adição e o envio de 5 arquivos\n"
   ]
  },
  {
   "cell_type": "markdown",
   "metadata": {},
   "source": [
    "# Cenário de inadequação\n",
    "\n",
    "A estrutura de pilha opera sob o princípio LIFO (Last In, First Out), o que significa que o último arquivo recebido será o primeiro a ser processado. Isso pode levar a situações onde arquivos menos urgentes ou maiores (que foram enviados por último) são processados antes de arquivos menores ou mais críticos, simplesmente devido à ordem de chegada."
   ]
  },
  {
   "cell_type": "code",
   "execution_count": 4,
   "metadata": {},
   "outputs": [
    {
     "name": "stdout",
     "output_type": "stream",
     "text": [
      "Arquivo 'foto1.jpg' adicionado para upload.\n",
      "Arquivo 'documento.docx' adicionado para upload.\n",
      "Arquivo 'video.mp4' adicionado para upload.\n",
      "Enviando arquivo 'video.mp4'... (isso levará 1.92 segundos)\n",
      "Arquivo 'video.mp4' enviado para armazenamento.\n",
      "Enviando arquivo 'documento.docx'... (isso levará 1.89 segundos)\n",
      "Arquivo 'documento.docx' enviado para armazenamento.\n",
      "Enviando arquivo 'foto1.jpg'... (isso levará 1.52 segundos)\n",
      "Arquivo 'foto1.jpg' enviado para armazenamento.\n"
     ]
    }
   ],
   "source": [
    "# Exemplo de uso\n",
    "servico = ServicoArmazenamentoNuvem()\n",
    "servico.receber_arquivo_para_upload(\"foto1.jpg\")  # Imagine que este é um arquivo pequeno e urgente.\n",
    "servico.receber_arquivo_para_upload(\"documento.docx\")  # Outro arquivo pequeno e crítico.\n",
    "servico.receber_arquivo_para_upload(\"video.mp4\")  # Um arquivo grande, menos urgente.\n",
    "\n",
    "# Simulando o envio dos arquivos um a um\n",
    "servico.enviar_arquivo_para_armazenamento()  # Isso enviará \"video.mp4\" primeiro, que é grande e menos urgente.\n",
    "servico.enviar_arquivo_para_armazenamento()  # Em seguida, \"documento.docx\".\n",
    "servico.enviar_arquivo_para_armazenamento()  # Por último, \"foto1.jpg\", apesar de sua urgência.\n"
   ]
  },
  {
   "cell_type": "code",
   "execution_count": null,
   "metadata": {},
   "outputs": [],
   "source": []
  }
 ],
 "metadata": {
  "kernelspec": {
   "display_name": "Python 3",
   "language": "python",
   "name": "python3"
  },
  "language_info": {
   "codemirror_mode": {
    "name": "ipython",
    "version": 3
   },
   "file_extension": ".py",
   "mimetype": "text/x-python",
   "name": "python",
   "nbconvert_exporter": "python",
   "pygments_lexer": "ipython3",
   "version": "3.11.4"
  }
 },
 "nbformat": 4,
 "nbformat_minor": 2
}
