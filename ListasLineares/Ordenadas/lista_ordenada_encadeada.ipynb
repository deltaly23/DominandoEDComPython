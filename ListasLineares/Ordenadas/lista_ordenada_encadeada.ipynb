{
 "cells": [
  {
   "cell_type": "markdown",
   "metadata": {},
   "source": [
    "# Implementação de uma lista ordenada encadeada"
   ]
  },
  {
   "cell_type": "markdown",
   "metadata": {},
   "source": [
    "# O Nó da lista"
   ]
  },
  {
   "cell_type": "code",
   "execution_count": 64,
   "metadata": {},
   "outputs": [],
   "source": [
    "class Node:\n",
    "    def __init__(self, qtd, preco, descricao):\n",
    "        self.qtd = qtd\n",
    "        self.preco = preco\n",
    "        self.descricao = descricao\n",
    "        self.next = None"
   ]
  },
  {
   "cell_type": "markdown",
   "metadata": {},
   "source": [
    "# Construção da lista\n",
    "\n",
    "Estrutura da lista:\n",
    "Operações básica:\n",
    "- insert\n",
    "- search\n",
    "- remove\n",
    "\n",
    "Operações complementares:\n",
    "- is_empty\n",
    "- display"
   ]
  },
  {
   "cell_type": "code",
   "execution_count": 65,
   "metadata": {},
   "outputs": [],
   "source": [
    "class OrdenedList:\n",
    "    def __init__(self):\n",
    "        self.head = None\n",
    "\n",
    "    # Consulta se a lista está fazia\n",
    "    def is_empty(self):\n",
    "        return self.head is None\n",
    "    \n",
    "    # Inserção de elementos na lista\n",
    "    def insert(self, qtd, preco, descricao):\n",
    "        new_node = Node(qtd, preco, descricao)\n",
    "\n",
    "        if self.is_empty() or descricao < self.head.descricao:\n",
    "            new_node.next = self.head\n",
    "            self.head = new_node\n",
    "        else:\n",
    "            current = self.head\n",
    "            while current.next is not None and current.next.descricao < descricao:\n",
    "                current = current.next\n",
    "            new_node.next = current.next\n",
    "            current.next = new_node\n",
    "\n",
    "    # Busca de elemento\n",
    "    def search(self, descricao):\n",
    "        current = self.head\n",
    "        while current is not None and current.descricao <= descricao:\n",
    "            if current.descricao == descricao:\n",
    "                print(f\"Qtd: {current.qtd}, Preço: {current.preco}, Descrição: {current.descricao}\")\n",
    "                return current\n",
    "            current = current.next\n",
    "        return None\n",
    "    \n",
    "    # Remoção\n",
    "    def remove(self, descricao):\n",
    "        if self.is_empty():\n",
    "            return None\n",
    "    \n",
    "        if self.head.descricao == descricao:\n",
    "            removed_node = self.head\n",
    "            self.head = self.head.next\n",
    "            return removed_node\n",
    "        \n",
    "        current = self.head\n",
    "        while current.next is not None and current.next.descricao < descricao:\n",
    "            current = current.next\n",
    "        \n",
    "        if current.next is None or current.next.descricao > descricao:\n",
    "            return None\n",
    "        \n",
    "        removed_node = current.next\n",
    "        current.next = current.next.next\n",
    "        return removed_node\n",
    "\n",
    "    # Exibição da lista - Display\n",
    "    def display(self):\n",
    "        if self.is_empty():\n",
    "            print(\"A lista ordenada está vazia!\")\n",
    "        else:\n",
    "            current = self.head\n",
    "            while current:\n",
    "                print(f\"Qtd: {current.qtd}, Preço: {current.preco}, Descrição: {current.descricao}\")\n",
    "                current = current.next"
   ]
  },
  {
   "cell_type": "code",
   "execution_count": 66,
   "metadata": {},
   "outputs": [
    {
     "name": "stdout",
     "output_type": "stream",
     "text": [
      "Qtd: 1, Preço: 15.0, Descrição: a\n",
      "Qtd: 1, Preço: 15.0, Descrição: a\n",
      "Qtd: 1, Preço: 152.0, Descrição: b\n",
      "Qtd: 1, Preço: 10.0, Descrição: item 1\n",
      "Qtd: 1, Preço: 15.0, Descrição: item 2\n",
      "\n",
      "pesquisando item 1:\n",
      "Qtd: 1, Preço: 10.0, Descrição: item 1\n",
      "\n",
      "\n",
      "Nova exibição após a remoção\n",
      "Qtd: 1, Preço: 152.0, Descrição: b\n",
      "Qtd: 1, Preço: 10.0, Descrição: item 1\n",
      "Qtd: 1, Preço: 15.0, Descrição: item 2\n"
     ]
    }
   ],
   "source": [
    "ol = OrdenedList()\n",
    "\n",
    "ol.insert(1, 10.0, \"item 1\")\n",
    "ol.insert(1, 15.0, \"item 2\")\n",
    "ol.insert(1, 15.0, \"a\")\n",
    "ol.insert(1, 15.0, \"a\")\n",
    "ol.insert(1, 152.0, \"b\")\n",
    "\n",
    "ol.display()\n",
    "\n",
    "print(\"\\npesquisando item 1:\")\n",
    "ol.search(\"item 1\")\n",
    "\n",
    "ol.remove(\"a\")\n",
    "ol.remove(\"a\")\n",
    "\n",
    "print(\"\\n\\nNova exibição após a remoção\")\n",
    "ol.display()\n",
    "# resultado = ol.search(15.0)\n",
    "# print(resultado)"
   ]
  },
  {
   "cell_type": "code",
   "execution_count": null,
   "metadata": {},
   "outputs": [],
   "source": []
  }
 ],
 "metadata": {
  "kernelspec": {
   "display_name": "ri",
   "language": "python",
   "name": "python3"
  },
  "language_info": {
   "codemirror_mode": {
    "name": "ipython",
    "version": 3
   },
   "file_extension": ".py",
   "mimetype": "text/x-python",
   "name": "python",
   "nbconvert_exporter": "python",
   "pygments_lexer": "ipython3",
   "version": "3.12.3"
  }
 },
 "nbformat": 4,
 "nbformat_minor": 2
}
